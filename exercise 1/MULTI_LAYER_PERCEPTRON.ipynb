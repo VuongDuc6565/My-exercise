{
  "cells": [
    {
      "cell_type": "markdown",
      "metadata": {
        "id": "hjI1Bh8x4-8k"
      },
      "source": [
        "<center>\n",
        "    <h1><b>Phân Tích và Dự Đoán Trạng Thái Tâm Lý Qua Miêu Tả Dạng Văn Bản</b></h1>\n",
        "    <h2><b>Học phần: Học máy</b></h2>\n",
        "    <h3><b>Giảng viên: TS. Cao Văn Chung</b></h3>\n",
        "</center>\n",
        "\n",
        "---\n",
        "**Sinh viên thực hiện:**\n",
        "- Trần Anh Minh - 21000242\n",
        "- Dương Đức Vương - 22000133\n",
        "- Nguyễn Tuấn Kiệt - 22000100"
      ]
    },
    {
      "cell_type": "markdown",
      "metadata": {
        "collapsed": false,
        "id": "YUBSEGvW4-8q"
      },
      "source": [
        "## Tiền xử lý dữ liệu"
      ]
    },
    {
      "cell_type": "code",
      "execution_count": 1,
      "metadata": {
        "id": "p4VGxxb94-8r"
      },
      "outputs": [],
      "source": [
        "import pandas as pd\n",
        "import seaborn as sn\n",
        "import matplotlib.pyplot as mp\n",
        "from sklearn.utils import resample\n",
        "from sklearn.model_selection import train_test_split\n",
        "from sklearn.feature_extraction.text import TfidfVectorizer\n",
        "import re as r\n",
        "from nltk.stem import PorterStemmer"
      ]
    },
    {
      "cell_type": "markdown",
      "metadata": {
        "id": "1NH7VmUM4-8v"
      },
      "source": [
        "* Tải dữ liệu và quan sát trực quan"
      ]
    },
    {
      "cell_type": "code",
      "execution_count": 4,
      "metadata": {
        "id": "EVz3MAPf4-8w"
      },
      "outputs": [],
      "source": [
        "df=pd.read_csv(\"New Data.csv\")"
      ]
    },
    {
      "cell_type": "code",
      "execution_count": 5,
      "metadata": {
        "id": "LuqbYtf_4-8x"
      },
      "outputs": [],
      "source": [
        "df.drop('Unnamed: 0',axis=1,inplace=True)"
      ]
    },
    {
      "cell_type": "code",
      "execution_count": 6,
      "metadata": {
        "id": "pnesY92T4-84"
      },
      "outputs": [],
      "source": [
        "df.dropna(inplace=True)"
      ]
    },
    {
      "cell_type": "code",
      "execution_count": 7,
      "metadata": {
        "id": "i-DDZbql4-85"
      },
      "outputs": [],
      "source": [
        "max_count=df['status'].value_counts().max()"
      ]
    },
    {
      "cell_type": "code",
      "execution_count": 8,
      "metadata": {
        "id": "5T0Qi-4H4-85"
      },
      "outputs": [],
      "source": [
        "def resample_data(df):\n",
        "    max_count = df['status'].value_counts().max()\n",
        "\n",
        "    df_resampled = pd.DataFrame()\n",
        "\n",
        "    for status in df['status'].unique():\n",
        "        df_class = df[df['status'] == status]\n",
        "        if len(df_class) < max_count:\n",
        "            df_class_resampled = resample(df_class,\n",
        "                                          replace=True,\n",
        "                                          n_samples=max_count,\n",
        "                                          random_state=42)\n",
        "            df_resampled = pd.concat([df_resampled, df_class_resampled])\n",
        "        else:\n",
        "            df_resampled = pd.concat([df_resampled, df_class])\n",
        "\n",
        "    return df_resampled\n",
        "\n",
        "\n",
        "df = resample_data(df)"
      ]
    },
    {
      "cell_type": "code",
      "execution_count": 9,
      "metadata": {
        "id": "6528jspX4-87"
      },
      "outputs": [],
      "source": [
        "pt=PorterStemmer()\n",
        "def preprocessing(x):\n",
        "    l=[]\n",
        "\n",
        "    text = r.sub(r'[^a-zA-Z0-9\\s]', '', x.lower())\n",
        "    for i in text.split():\n",
        "        l.append(pt.stem(i.lower()))\n",
        "\n",
        "\n",
        "    return \" \".join(l)"
      ]
    },
    {
      "cell_type": "code",
      "execution_count": 10,
      "metadata": {
        "id": "YY5wP_ek4-88"
      },
      "outputs": [],
      "source": [
        "df['statement']=df['statement'].apply(preprocessing)"
      ]
    },
    {
      "cell_type": "code",
      "execution_count": 11,
      "metadata": {
        "id": "8ljYs1cL4-88"
      },
      "outputs": [],
      "source": [
        "x=df['statement']\n",
        "y=df['status']"
      ]
    },
    {
      "cell_type": "code",
      "execution_count": 12,
      "metadata": {
        "id": "Rn08puMJ4-88"
      },
      "outputs": [],
      "source": [
        "x_train1,x_test1,y_train1,y_test1=train_test_split(x,y,random_state=42,test_size=0.2)\n",
        "x_train2,x_test2,y_train2,y_test2=train_test_split(x,y,random_state=42,test_size=0.3)\n",
        "x_train3,x_test3,y_train3,y_test3=train_test_split(x,y,random_state=42,test_size=0.4)\n"
      ]
    },
    {
      "cell_type": "markdown",
      "metadata": {},
      "source": [
        "## MULTI LAYER PERCEPTRON"
      ]
    },
    {
      "cell_type": "markdown",
      "metadata": {
        "id": "ondBaJcKdEbC"
      },
      "source": [
        "* Vector hóa tập các tập train/ test bằng TF-TDF"
      ]
    },
    {
      "cell_type": "code",
      "execution_count": 13,
      "metadata": {
        "id": "bs2UkPZedKtP"
      },
      "outputs": [],
      "source": [
        "# TF-IDF từng tập train, test\n",
        "vec1 = TfidfVectorizer()\n",
        "x_train_tfidf1 = vec1.fit_transform(x_train1)\n",
        "x_test_tfidf1 = vec1.transform(x_test1)\n",
        "\n",
        "vec2 = TfidfVectorizer()\n",
        "x_train_tfidf2 = vec2.fit_transform(x_train2)\n",
        "x_test_tfidf2 = vec2.transform(x_test2)\n",
        "\n",
        "vec3 = TfidfVectorizer()\n",
        "x_train_tfidf3 = vec3.fit_transform(x_train3)\n",
        "x_test_tfidf3 = vec3.transform(x_test3)\n",
        "\n"
      ]
    },
    {
      "cell_type": "markdown",
      "metadata": {
        "id": "ukgxFJFVaxhb"
      },
      "source": [
        "* Số chiều từng tập train, test"
      ]
    },
    {
      "cell_type": "code",
      "execution_count": 14,
      "metadata": {
        "colab": {
          "base_uri": "https://localhost:8080/"
        },
        "id": "FW2kbkcga07K",
        "outputId": "2846e6c0-4e78-4faa-8001-69f07e55f34c"
      },
      "outputs": [
        {
          "name": "stdout",
          "output_type": "stream",
          "text": [
            "Tập train 1 (4:1):\n",
            "Số chiều tập train: (125068, 54552)\n",
            "Số chiều tập test: (31268, 54552)\n",
            "Tập train 2 (7:3):\n",
            "Số chiều tập train: (109435, 51231)\n",
            "Số chiều tập test: (46901, 51231)\n",
            "Tập train 3 (6:4):\n",
            "Số chiều tập train: (93801, 47660)\n",
            "Số chiều tập test: (62535, 47660)\n"
          ]
        }
      ],
      "source": [
        "print(\"Tập train 1 (4:1):\")\n",
        "print(\"Số chiều tập train:\", x_train_tfidf1.shape)\n",
        "print(\"Số chiều tập test:\", x_test_tfidf1.shape)\n",
        "\n",
        "print(\"Tập train 2 (7:3):\")\n",
        "print(\"Số chiều tập train:\", x_train_tfidf2.shape)\n",
        "print(\"Số chiều tập test:\", x_test_tfidf2.shape)\n",
        "\n",
        "print(\"Tập train 3 (6:4):\")\n",
        "print(\"Số chiều tập train:\", x_train_tfidf3.shape)\n",
        "print(\"Số chiều tập test:\", x_test_tfidf3.shape)"
      ]
    },
    {
      "cell_type": "markdown",
      "metadata": {
        "id": "SWx474ez4-9A"
      },
      "source": [
        "* Dùng thư viện để huấn luyện mô hình, phân loại tập test và đánh giá mô hình"
      ]
    },
    {
      "cell_type": "code",
      "execution_count": null,
      "metadata": {},
      "outputs": [],
      "source": [
        "from sklearn.neural_network import MLPClassifier\n",
        "from sklearn.metrics import classification_report, confusion_matrix, accuracy_score\n",
        "\n",
        "def train_evaluate_MLP(x_train, x_test, y_train, y_test, description=\"\"):\n",
        "    # Khởi tạo mô hình MLP với các siêu tham số cơ bản\n",
        "    model = MLPClassifier(hidden_layer_sizes=(100,), activation='relu', solver='adam', max_iter=300, random_state=42)\n",
        "    \n",
        "    # Huấn luyện mô hình\n",
        "    model.fit(x_train, y_train)\n",
        "    \n",
        "    # Dự đoán trên tập test\n",
        "    y_pred = model.predict(x_test)\n",
        "    \n",
        "    # In kết quả đánh giá\n",
        "    print(f\"===== Đánh giá mô hình cho {description} =====\")\n",
        "    print(\"Độ chính xác (Accuracy):\", accuracy_score(y_test, y_pred))\n",
        "    print(\"Báo cáo phân loại (Classification Report):\")\n",
        "    print(classification_report(y_test, y_pred))\n",
        "    print(\"Ma trận nhầm lẫn (Confusion Matrix):\")\n",
        "    print(confusion_matrix(y_test, y_pred))\n",
        "    print(\"\\n\")\n",
        "\n",
        "# Đánh giá cho 3 tỷ lệ train/test\n",
        "train_evaluate_MLP(x_train_tfidf1, x_test_tfidf1, y_train1, y_test1, description=\"Tập 1 (train:test = 4:1)\")\n",
        "train_evaluate_MLP(x_train_tfidf2, x_test_tfidf2, y_train2, y_test2, description=\"Tập 2 (train:test = 7:3)\")\n",
        "train_evaluate_MLP(x_train_tfidf3, x_test_tfidf3, y_train3, y_test3, description=\"Tập 3 (train:test = 6:4)\")\n"
      ]
    }
  ],
  "metadata": {
    "colab": {
      "provenance": []
    },
    "kernelspec": {
      "display_name": "Python 3",
      "language": "python",
      "name": "python3"
    },
    "language_info": {
      "codemirror_mode": {
        "name": "ipython",
        "version": 3
      },
      "file_extension": ".py",
      "mimetype": "text/x-python",
      "name": "python",
      "nbconvert_exporter": "python",
      "pygments_lexer": "ipython3",
      "version": "3.12.7"
    }
  },
  "nbformat": 4,
  "nbformat_minor": 0
}
